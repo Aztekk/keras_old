{
 "cells": [
  {
   "cell_type": "code",
   "execution_count": 1,
   "id": "45d7154f",
   "metadata": {},
   "outputs": [],
   "source": [
    "import numpy as np\n",
    "import tensorflow as tf\n",
    "from tensorflow import keras\n",
    "from tensorflow.keras import layers\n",
    "from tensorflow.keras.datasets import reuters\n",
    "from tensorflow.keras.utils import to_categorical\n",
    "from sklearn.metrics import accuracy_score\n",
    "import matplotlib.pyplot as plt\n",
    "from my_help_functions.plot import plot_loss, plot_metric\n",
    "from my_help_functions.seq import vectorize_sequences"
   ]
  },
  {
   "cell_type": "code",
   "execution_count": 2,
   "id": "5a4d3170",
   "metadata": {},
   "outputs": [],
   "source": [
    "(train_data, train_labels), (test_data, test_labels) = reuters.load_data(num_words=10000)"
   ]
  },
  {
   "cell_type": "code",
   "execution_count": 3,
   "id": "8a1302d1",
   "metadata": {},
   "outputs": [
    {
     "data": {
      "text/plain": [
       "'? ? ? said as a result of its december acquisition of space co it expects earnings per share in 1987 of 1 15 to 1 30 dlrs per share up from 70 cts in 1986 the company said pretax net should rise to nine to 10 mln dlrs from six mln dlrs in 1986 and rental operation revenues to 19 to 22 mln dlrs from 12 5 mln dlrs it said cash flow per share this year should be 2 50 to three dlrs reuter 3'"
      ]
     },
     "execution_count": 3,
     "metadata": {},
     "output_type": "execute_result"
    }
   ],
   "source": [
    "word_index = reuters.get_word_index()\n",
    "reverse_word_index = dict([(value, key) for (key, value) in word_index.items()])\n",
    "decoded_newswire = \" \".join([reverse_word_index.get(i - 3, \"?\") for i in train_data[0]])\n",
    "\n",
    "decoded_newswire"
   ]
  },
  {
   "cell_type": "code",
   "execution_count": 4,
   "id": "c33bad1d",
   "metadata": {},
   "outputs": [],
   "source": [
    "# Подготовка данных\n",
    "x_train = vectorize_sequences(train_data)\n",
    "x_test = vectorize_sequences(test_data)\n",
    "\n",
    "y_train = to_categorical(train_labels)\n",
    "y_test = to_categorical(test_labels)"
   ]
  },
  {
   "cell_type": "code",
   "execution_count": 5,
   "id": "83d7e1e7",
   "metadata": {},
   "outputs": [],
   "source": [
    "# Проверочный набор\n",
    "x_val = x_train[:1000]\n",
    "partial_x_train = x_train[1000:]\n",
    "y_val = y_train[:1000]\n",
    "partial_y_train = y_train[1000:]"
   ]
  },
  {
   "cell_type": "code",
   "execution_count": 6,
   "id": "b704c3e0",
   "metadata": {},
   "outputs": [
    {
     "name": "stderr",
     "output_type": "stream",
     "text": [
      "2024-02-25 20:41:51.069767: I metal_plugin/src/device/metal_device.cc:1154] Metal device set to: Apple M2 Max\n",
      "2024-02-25 20:41:51.069793: I metal_plugin/src/device/metal_device.cc:296] systemMemory: 32.00 GB\n",
      "2024-02-25 20:41:51.069797: I metal_plugin/src/device/metal_device.cc:313] maxCacheSize: 10.67 GB\n",
      "2024-02-25 20:41:51.069826: I tensorflow/core/common_runtime/pluggable_device/pluggable_device_factory.cc:306] Could not identify NUMA node of platform GPU ID 0, defaulting to 0. Your kernel may not have been built with NUMA support.\n",
      "2024-02-25 20:41:51.069844: I tensorflow/core/common_runtime/pluggable_device/pluggable_device_factory.cc:272] Created TensorFlow device (/job:localhost/replica:0/task:0/device:GPU:0 with 0 MB memory) -> physical PluggableDevice (device: 0, name: METAL, pci bus id: <undefined>)\n"
     ]
    }
   ],
   "source": [
    "model = keras.Sequential([\n",
    "    layers.Dense(64, activation=\"relu\"),\n",
    "    layers.Dense(64, activation=\"relu\"),\n",
    "    layers.Dense(46, activation=\"softmax\")\n",
    "])\n",
    "\n",
    "model.compile(optimizer=\"rmsprop\",\n",
    "              loss=\"categorical_crossentropy\",\n",
    "              metrics=[\"accuracy\"]\n",
    "             )"
   ]
  },
  {
   "cell_type": "code",
   "execution_count": 7,
   "id": "10751c82",
   "metadata": {},
   "outputs": [
    {
     "name": "stdout",
     "output_type": "stream",
     "text": [
      "Epoch 1/20\n",
      " 1/16 [>.............................] - ETA: 5s - loss: 3.8141 - accuracy: 0.0469"
     ]
    },
    {
     "name": "stderr",
     "output_type": "stream",
     "text": [
      "2024-02-25 20:41:51.499038: I tensorflow/core/grappler/optimizers/custom_graph_optimizer_registry.cc:117] Plugin optimizer for device_type GPU is enabled.\n"
     ]
    },
    {
     "name": "stdout",
     "output_type": "stream",
     "text": [
      "16/16 [==============================] - 1s 22ms/step - loss: 2.4582 - accuracy: 0.5486 - val_loss: 1.6748 - val_accuracy: 0.6370\n",
      "Epoch 2/20\n",
      "16/16 [==============================] - 0s 12ms/step - loss: 1.3695 - accuracy: 0.7140 - val_loss: 1.2852 - val_accuracy: 0.7240\n",
      "Epoch 3/20\n",
      "16/16 [==============================] - 0s 13ms/step - loss: 1.0203 - accuracy: 0.7913 - val_loss: 1.1302 - val_accuracy: 0.7530\n",
      "Epoch 4/20\n",
      "16/16 [==============================] - 0s 13ms/step - loss: 0.8076 - accuracy: 0.8335 - val_loss: 1.0255 - val_accuracy: 0.7880\n",
      "Epoch 5/20\n",
      "16/16 [==============================] - 0s 12ms/step - loss: 0.6419 - accuracy: 0.8691 - val_loss: 0.9442 - val_accuracy: 0.8100\n",
      "Epoch 6/20\n",
      "16/16 [==============================] - 0s 12ms/step - loss: 0.5142 - accuracy: 0.8931 - val_loss: 0.9287 - val_accuracy: 0.8010\n",
      "Epoch 7/20\n",
      "16/16 [==============================] - 0s 13ms/step - loss: 0.4118 - accuracy: 0.9156 - val_loss: 0.9189 - val_accuracy: 0.8170\n",
      "Epoch 8/20\n",
      "16/16 [==============================] - 0s 14ms/step - loss: 0.3361 - accuracy: 0.9302 - val_loss: 0.8936 - val_accuracy: 0.8110\n",
      "Epoch 9/20\n",
      "16/16 [==============================] - 0s 13ms/step - loss: 0.2801 - accuracy: 0.9367 - val_loss: 0.8978 - val_accuracy: 0.8140\n",
      "Epoch 10/20\n",
      "16/16 [==============================] - 0s 13ms/step - loss: 0.2387 - accuracy: 0.9460 - val_loss: 0.9620 - val_accuracy: 0.8010\n",
      "Epoch 11/20\n",
      "16/16 [==============================] - 0s 13ms/step - loss: 0.2060 - accuracy: 0.9500 - val_loss: 0.9489 - val_accuracy: 0.8080\n",
      "Epoch 12/20\n",
      "16/16 [==============================] - 0s 13ms/step - loss: 0.1836 - accuracy: 0.9529 - val_loss: 1.0418 - val_accuracy: 0.7890\n",
      "Epoch 13/20\n",
      "16/16 [==============================] - 0s 13ms/step - loss: 0.1669 - accuracy: 0.9531 - val_loss: 0.9495 - val_accuracy: 0.8260\n",
      "Epoch 14/20\n",
      "16/16 [==============================] - 0s 13ms/step - loss: 0.1567 - accuracy: 0.9540 - val_loss: 0.9782 - val_accuracy: 0.8020\n",
      "Epoch 15/20\n",
      "16/16 [==============================] - 0s 13ms/step - loss: 0.1420 - accuracy: 0.9560 - val_loss: 0.9863 - val_accuracy: 0.8160\n",
      "Epoch 16/20\n",
      "16/16 [==============================] - 0s 13ms/step - loss: 0.1379 - accuracy: 0.9558 - val_loss: 0.9816 - val_accuracy: 0.8050\n",
      "Epoch 17/20\n",
      "16/16 [==============================] - 0s 13ms/step - loss: 0.1293 - accuracy: 0.9554 - val_loss: 1.0809 - val_accuracy: 0.7970\n",
      "Epoch 18/20\n",
      "16/16 [==============================] - 0s 13ms/step - loss: 0.1214 - accuracy: 0.9575 - val_loss: 1.0689 - val_accuracy: 0.7960\n",
      "Epoch 19/20\n",
      "16/16 [==============================] - 0s 13ms/step - loss: 0.1181 - accuracy: 0.9570 - val_loss: 1.0620 - val_accuracy: 0.7970\n",
      "Epoch 20/20\n",
      "16/16 [==============================] - 0s 13ms/step - loss: 0.1176 - accuracy: 0.9578 - val_loss: 1.0540 - val_accuracy: 0.8000\n"
     ]
    }
   ],
   "source": [
    "history = model.fit(partial_x_train,\n",
    "                    partial_y_train,\n",
    "                    epochs=20,\n",
    "                    batch_size=512,\n",
    "                    validation_data=(x_val, y_val))"
   ]
  },
  {
   "cell_type": "code",
   "execution_count": 8,
   "id": "f0087198",
   "metadata": {},
   "outputs": [
    {
     "data": {
      "image/png": "[encoded data removed]",
      "text/plain": [
       "<Figure size 640x480 with 1 Axes>"
      ]
     },
     "metadata": {},
     "output_type": "display_data"
    }
   ],
   "source": [
    "plot_loss(history)"
   ]
  },
  {
   "cell_type": "code",
   "execution_count": 9,
   "id": "a040b5d3",
   "metadata": {},
   "outputs": [
    {
     "data": {
      "image/png": "[encoded data removed]",
      "text/plain": [
       "<Figure size 640x480 with 1 Axes>"
      ]
     },
     "metadata": {},
     "output_type": "display_data"
    }
   ],
   "source": [
    "plot_metric(history, 'accuracy', 'Accuracy')"
   ]
  },
  {
   "cell_type": "code",
   "execution_count": 15,
   "id": "e96a7645",
   "metadata": {},
   "outputs": [
    {
     "name": "stdout",
     "output_type": "stream",
     "text": [
      "Epoch 1/9\n",
      "18/18 [==============================] - 0s 13ms/step - loss: 2.4031 - accuracy: 0.5412\n",
      "Epoch 2/9\n",
      "18/18 [==============================] - 0s 11ms/step - loss: 1.3300 - accuracy: 0.7172\n",
      "Epoch 3/9\n",
      "18/18 [==============================] - 0s 11ms/step - loss: 0.9809 - accuracy: 0.7875\n",
      "Epoch 4/9\n",
      "18/18 [==============================] - 0s 12ms/step - loss: 0.7661 - accuracy: 0.8389\n",
      "Epoch 5/9\n",
      "18/18 [==============================] - 0s 12ms/step - loss: 0.6036 - accuracy: 0.8769\n",
      "Epoch 6/9\n",
      "18/18 [==============================] - 0s 12ms/step - loss: 0.4834 - accuracy: 0.9039\n",
      "Epoch 7/9\n",
      "18/18 [==============================] - 0s 11ms/step - loss: 0.3909 - accuracy: 0.9232\n",
      "Epoch 8/9\n",
      "18/18 [==============================] - 0s 11ms/step - loss: 0.3224 - accuracy: 0.9354\n",
      "Epoch 9/9\n",
      "18/18 [==============================] - 0s 10ms/step - loss: 0.2714 - accuracy: 0.9410\n",
      "71/71 [==============================] - 1s 6ms/step - loss: 0.9474 - accuracy: 0.7996\n",
      "\n",
      "Accuracy on test: 0.7996438145637512\n"
     ]
    }
   ],
   "source": [
    "# Обучение новой модели\n",
    "\n",
    "model = keras.Sequential([\n",
    "    layers.Dense(64, activation=\"relu\"),\n",
    "    layers.Dense(64, activation=\"relu\"),\n",
    "    layers.Dense(46, activation=\"softmax\")\n",
    "])\n",
    "\n",
    "model.compile(optimizer=\"rmsprop\",\n",
    "              loss=\"categorical_crossentropy\",\n",
    "              metrics=[\"accuracy\"]\n",
    "             )\n",
    "model.fit(x_train,\n",
    "          y_train,\n",
    "          epochs=9,\n",
    "          batch_size=512\n",
    "         )\n",
    "results = model.evaluate(x_test, y_test)\n",
    "\n",
    "print(f'\\nAccuracy on test: {results[1]}')"
   ]
  },
  {
   "cell_type": "code",
   "execution_count": 19,
   "id": "94a09202",
   "metadata": {},
   "outputs": [],
   "source": [
    "# Другой способ обработки меток \n",
    "# Оставить как есть и использовать sparse_categorical_crossentropy\n",
    "\n",
    "y_train = np.array(train_labels)\n",
    "y_test = np.array(test_labels)"
   ]
  },
  {
   "cell_type": "code",
   "execution_count": 20,
   "id": "8ef16d54",
   "metadata": {},
   "outputs": [],
   "source": [
    "model.compile(optimizer=\"rmsprop\",\n",
    "              loss=\"sparse_categorical_crossentropy\",\n",
    "              metrics=[\"accuracy\"])"
   ]
  },
  {
   "cell_type": "code",
   "execution_count": 22,
   "id": "dca0a77a",
   "metadata": {},
   "outputs": [
    {
     "name": "stdout",
     "output_type": "stream",
     "text": [
      "Epoch 1/7\n",
      "18/18 [==============================] - 0s 8ms/step - loss: 0.1264 - accuracy: 0.9554\n",
      "Epoch 2/7\n",
      "18/18 [==============================] - 0s 8ms/step - loss: 0.1189 - accuracy: 0.9547\n",
      "Epoch 3/7\n",
      "18/18 [==============================] - 0s 8ms/step - loss: 0.1146 - accuracy: 0.9541\n",
      "Epoch 4/7\n",
      "18/18 [==============================] - 0s 8ms/step - loss: 0.1161 - accuracy: 0.9560\n",
      "Epoch 5/7\n",
      "18/18 [==============================] - 0s 8ms/step - loss: 0.1109 - accuracy: 0.9569\n",
      "Epoch 6/7\n",
      "18/18 [==============================] - 0s 8ms/step - loss: 0.1128 - accuracy: 0.9541\n",
      "Epoch 7/7\n",
      "18/18 [==============================] - 0s 8ms/step - loss: 0.1076 - accuracy: 0.9584\n",
      "71/71 [==============================] - 0s 4ms/step - loss: 1.2553 - accuracy: 0.7943\n",
      "\n",
      "Accuracy on test: 0.7943009734153748\n"
     ]
    }
   ],
   "source": [
    "model.fit(x_train,\n",
    "          y_train,\n",
    "          epochs=7,\n",
    "          batch_size=512\n",
    "         )\n",
    "results = model.evaluate(x_test, y_test)\n",
    "\n",
    "print(f'\\nAccuracy on test: {results[1]}')"
   ]
  },
  {
   "cell_type": "code",
   "execution_count": 24,
   "id": "751d6749",
   "metadata": {},
   "outputs": [
    {
     "name": "stdout",
     "output_type": "stream",
     "text": [
      "Epoch 1/9\n",
      "18/18 [==============================] - 1s 20ms/step - loss: 2.7708 - accuracy: 0.4785\n",
      "Epoch 2/9\n",
      "18/18 [==============================] - 0s 8ms/step - loss: 1.7846 - accuracy: 0.6333\n",
      "Epoch 3/9\n",
      "18/18 [==============================] - 0s 8ms/step - loss: 1.3677 - accuracy: 0.7110\n",
      "Epoch 4/9\n",
      "18/18 [==============================] - 0s 8ms/step - loss: 1.1228 - accuracy: 0.7583\n",
      "Epoch 5/9\n",
      "18/18 [==============================] - 0s 8ms/step - loss: 0.9509 - accuracy: 0.7976\n",
      "Epoch 6/9\n",
      "18/18 [==============================] - 0s 8ms/step - loss: 0.8136 - accuracy: 0.8322\n",
      "Epoch 7/9\n",
      "18/18 [==============================] - 0s 8ms/step - loss: 0.6993 - accuracy: 0.8562\n",
      "Epoch 8/9\n",
      "18/18 [==============================] - 0s 8ms/step - loss: 0.6033 - accuracy: 0.8799\n",
      "Epoch 9/9\n",
      "18/18 [==============================] - 0s 8ms/step - loss: 0.5217 - accuracy: 0.8939\n",
      "71/71 [==============================] - 0s 4ms/step - loss: 1.0083 - accuracy: 0.7832\n",
      "\n",
      "Accuracy on test: 0.7831701040267944\n"
     ]
    }
   ],
   "source": [
    "# Слой 32\n",
    "model = keras.Sequential([\n",
    "    layers.Dense(32, activation=\"relu\"),\n",
    "    layers.Dense(32, activation=\"relu\"),\n",
    "    layers.Dense(46, activation=\"softmax\")\n",
    "])\n",
    "\n",
    "model.compile(optimizer=\"rmsprop\",\n",
    "              loss=\"sparse_categorical_crossentropy\",\n",
    "              metrics=[\"accuracy\"]\n",
    "             )\n",
    "model.fit(x_train,\n",
    "          y_train,\n",
    "          epochs=9,\n",
    "          batch_size=512\n",
    "         )\n",
    "results = model.evaluate(x_test, y_test)\n",
    "\n",
    "print(f'\\nAccuracy on test: {results[1]}')"
   ]
  },
  {
   "cell_type": "code",
   "execution_count": 25,
   "id": "cf34dc38",
   "metadata": {},
   "outputs": [
    {
     "name": "stdout",
     "output_type": "stream",
     "text": [
      "Epoch 1/9\n",
      "18/18 [==============================] - 1s 15ms/step - loss: 1.9907 - accuracy: 0.5897\n",
      "Epoch 2/9\n",
      "18/18 [==============================] - 0s 9ms/step - loss: 1.0698 - accuracy: 0.7745\n",
      "Epoch 3/9\n",
      "18/18 [==============================] - 0s 8ms/step - loss: 0.7435 - accuracy: 0.8490\n",
      "Epoch 4/9\n",
      "18/18 [==============================] - 0s 8ms/step - loss: 0.5288 - accuracy: 0.8914\n",
      "Epoch 5/9\n",
      "18/18 [==============================] - 0s 8ms/step - loss: 0.3843 - accuracy: 0.9189\n",
      "Epoch 6/9\n",
      "18/18 [==============================] - 0s 8ms/step - loss: 0.3096 - accuracy: 0.9324\n",
      "Epoch 7/9\n",
      "18/18 [==============================] - 0s 8ms/step - loss: 0.2455 - accuracy: 0.9433\n",
      "Epoch 8/9\n",
      "18/18 [==============================] - 0s 9ms/step - loss: 0.2086 - accuracy: 0.9483\n",
      "Epoch 9/9\n",
      "18/18 [==============================] - 0s 9ms/step - loss: 0.1818 - accuracy: 0.9512\n",
      "71/71 [==============================] - 0s 4ms/step - loss: 1.0248 - accuracy: 0.8054\n",
      "\n",
      "Accuracy on test: 0.8054319024085999\n"
     ]
    }
   ],
   "source": [
    "# Слой 128\n",
    "model = keras.Sequential([\n",
    "    layers.Dense(128, activation=\"relu\"),\n",
    "    layers.Dense(128, activation=\"relu\"),\n",
    "    layers.Dense(46, activation=\"softmax\")\n",
    "])\n",
    "\n",
    "model.compile(optimizer=\"rmsprop\",\n",
    "              loss=\"sparse_categorical_crossentropy\",\n",
    "              metrics=[\"accuracy\"]\n",
    "             )\n",
    "model.fit(x_train,\n",
    "          y_train,\n",
    "          epochs=9,\n",
    "          batch_size=512\n",
    "         )\n",
    "results = model.evaluate(x_test, y_test)\n",
    "\n",
    "print(f'\\nAccuracy on test: {results[1]}')"
   ]
  },
  {
   "cell_type": "code",
   "execution_count": 26,
   "id": "02a78034",
   "metadata": {},
   "outputs": [
    {
     "name": "stdout",
     "output_type": "stream",
     "text": [
      "Epoch 1/9\n",
      "18/18 [==============================] - 1s 13ms/step - loss: 1.9428 - accuracy: 0.5731\n",
      "Epoch 2/9\n",
      "18/18 [==============================] - 0s 9ms/step - loss: 1.1086 - accuracy: 0.7494\n",
      "Epoch 3/9\n",
      "18/18 [==============================] - 0s 9ms/step - loss: 0.7935 - accuracy: 0.8258\n",
      "Epoch 4/9\n",
      "18/18 [==============================] - 0s 9ms/step - loss: 0.5860 - accuracy: 0.8770\n",
      "Epoch 5/9\n",
      "18/18 [==============================] - 0s 9ms/step - loss: 0.4209 - accuracy: 0.9093\n",
      "Epoch 6/9\n",
      "18/18 [==============================] - 0s 9ms/step - loss: 0.3210 - accuracy: 0.9286\n",
      "Epoch 7/9\n",
      "18/18 [==============================] - 0s 10ms/step - loss: 0.2483 - accuracy: 0.9430\n",
      "Epoch 8/9\n",
      "18/18 [==============================] - 0s 10ms/step - loss: 0.2120 - accuracy: 0.9481\n",
      "Epoch 9/9\n",
      "18/18 [==============================] - 0s 9ms/step - loss: 0.2001 - accuracy: 0.9456\n",
      "71/71 [==============================] - 0s 4ms/step - loss: 1.0950 - accuracy: 0.8001\n",
      "\n",
      "Accuracy on test: 0.8000890612602234\n"
     ]
    }
   ],
   "source": [
    "# Слой 128 и 3\n",
    "model = keras.Sequential([\n",
    "    layers.Dense(128, activation=\"relu\"),\n",
    "    layers.Dense(128, activation=\"relu\"),\n",
    "    layers.Dense(128, activation=\"relu\"),\n",
    "    layers.Dense(46, activation=\"softmax\")\n",
    "])\n",
    "\n",
    "model.compile(optimizer=\"rmsprop\",\n",
    "              loss=\"sparse_categorical_crossentropy\",\n",
    "              metrics=[\"accuracy\"]\n",
    "             )\n",
    "model.fit(x_train,\n",
    "          y_train,\n",
    "          epochs=9,\n",
    "          batch_size=512\n",
    "         )\n",
    "results = model.evaluate(x_test, y_test)\n",
    "\n",
    "print(f'\\nAccuracy on test: {results[1]}')"
   ]
  },
  {
   "cell_type": "code",
   "execution_count": 30,
   "id": "67b2fefc",
   "metadata": {},
   "outputs": [
    {
     "name": "stdout",
     "output_type": "stream",
     "text": [
      "Epoch 1/8\n",
      "18/18 [==============================] - 1s 13ms/step - loss: 2.0739 - accuracy: 0.6141\n",
      "Epoch 2/8\n",
      "18/18 [==============================] - 0s 7ms/step - loss: 1.0635 - accuracy: 0.7884\n",
      "Epoch 3/8\n",
      "18/18 [==============================] - 0s 9ms/step - loss: 0.7338 - accuracy: 0.8570\n",
      "Epoch 4/8\n",
      "18/18 [==============================] - 0s 7ms/step - loss: 0.5400 - accuracy: 0.8962\n",
      "Epoch 5/8\n",
      "18/18 [==============================] - 0s 7ms/step - loss: 0.4121 - accuracy: 0.9183\n",
      "Epoch 6/8\n",
      "18/18 [==============================] - 0s 7ms/step - loss: 0.3246 - accuracy: 0.9323\n",
      "Epoch 7/8\n",
      "18/18 [==============================] - 0s 7ms/step - loss: 0.2639 - accuracy: 0.9404\n",
      "Epoch 8/8\n",
      "18/18 [==============================] - 0s 7ms/step - loss: 0.2224 - accuracy: 0.9468\n",
      "71/71 [==============================] - 0s 4ms/step - loss: 0.8661 - accuracy: 0.8081\n",
      "\n",
      "Accuracy on test: 0.8081033229827881\n"
     ]
    }
   ],
   "source": [
    "# Слой 128 и 1\n",
    "model = keras.Sequential([\n",
    "    layers.Dense(128, activation=\"relu\"),\n",
    "    layers.Dense(46, activation=\"softmax\")\n",
    "])\n",
    "\n",
    "model.compile(optimizer=\"rmsprop\",\n",
    "              loss=\"sparse_categorical_crossentropy\",\n",
    "              metrics=[\"accuracy\"]\n",
    "             )\n",
    "model.fit(x_train,\n",
    "          y_train,\n",
    "          epochs=8,\n",
    "          batch_size=512\n",
    "         )\n",
    "results = model.evaluate(x_test, y_test)\n",
    "\n",
    "print(f'\\nAccuracy on test: {results[1]}')"
   ]
  },
  {
   "cell_type": "code",
   "execution_count": 28,
   "id": "3879ae03",
   "metadata": {},
   "outputs": [
    {
     "name": "stdout",
     "output_type": "stream",
     "text": [
      "Epoch 1/9\n",
      "18/18 [==============================] - 1s 13ms/step - loss: 1.7756 - accuracy: 0.6458\n",
      "Epoch 2/9\n",
      "18/18 [==============================] - 0s 8ms/step - loss: 0.8241 - accuracy: 0.8362\n",
      "Epoch 3/9\n",
      "18/18 [==============================] - 0s 8ms/step - loss: 0.5364 - accuracy: 0.8957\n",
      "Epoch 4/9\n",
      "18/18 [==============================] - 0s 9ms/step - loss: 0.3806 - accuracy: 0.9248\n",
      "Epoch 5/9\n",
      "18/18 [==============================] - 0s 10ms/step - loss: 0.2866 - accuracy: 0.9384\n",
      "Epoch 6/9\n",
      "18/18 [==============================] - 0s 8ms/step - loss: 0.2326 - accuracy: 0.9446\n",
      "Epoch 7/9\n",
      "18/18 [==============================] - 0s 8ms/step - loss: 0.1956 - accuracy: 0.9499\n",
      "Epoch 8/9\n",
      "18/18 [==============================] - 0s 8ms/step - loss: 0.1728 - accuracy: 0.9529\n",
      "Epoch 9/9\n",
      "18/18 [==============================] - 0s 8ms/step - loss: 0.1590 - accuracy: 0.9528\n",
      "71/71 [==============================] - 0s 4ms/step - loss: 1.0116 - accuracy: 0.7965\n",
      "\n",
      "Accuracy on test: 0.7965271472930908\n"
     ]
    }
   ],
   "source": [
    "# Слой 256 и 1\n",
    "model = keras.Sequential([\n",
    "    layers.Dense(256, activation=\"relu\"),\n",
    "    layers.Dense(46, activation=\"softmax\")\n",
    "])\n",
    "\n",
    "model.compile(optimizer=\"rmsprop\",\n",
    "              loss=\"sparse_categorical_crossentropy\",\n",
    "              metrics=[\"accuracy\"]\n",
    "             )\n",
    "model.fit(x_train,\n",
    "          y_train,\n",
    "          epochs=9,\n",
    "          batch_size=512\n",
    "         )\n",
    "results = model.evaluate(x_test, y_test)\n",
    "\n",
    "print(f'\\nAccuracy on test: {results[1]}')"
   ]
  },
  {
   "cell_type": "code",
   "execution_count": 32,
   "id": "acab3ad0",
   "metadata": {},
   "outputs": [
    {
     "name": "stdout",
     "output_type": "stream",
     "text": [
      "Epoch 1/9\n",
      "18/18 [==============================] - 1s 13ms/step - loss: 2.1308 - accuracy: 0.5863\n",
      "Epoch 2/9\n",
      "18/18 [==============================] - 0s 8ms/step - loss: 1.1406 - accuracy: 0.7682\n",
      "Epoch 3/9\n",
      "18/18 [==============================] - 0s 8ms/step - loss: 0.8002 - accuracy: 0.8411\n",
      "Epoch 4/9\n",
      "18/18 [==============================] - 0s 8ms/step - loss: 0.5888 - accuracy: 0.8840\n",
      "Epoch 5/9\n",
      "18/18 [==============================] - 0s 9ms/step - loss: 0.4367 - accuracy: 0.9135\n",
      "Epoch 6/9\n",
      "18/18 [==============================] - 0s 8ms/step - loss: 0.3374 - accuracy: 0.9297\n",
      "Epoch 7/9\n",
      "18/18 [==============================] - 0s 8ms/step - loss: 0.2740 - accuracy: 0.9402\n",
      "Epoch 8/9\n",
      "18/18 [==============================] - 0s 8ms/step - loss: 0.2297 - accuracy: 0.9475\n",
      "Epoch 9/9\n",
      "18/18 [==============================] - 0s 8ms/step - loss: 0.1961 - accuracy: 0.9500\n",
      "71/71 [==============================] - 0s 4ms/step - loss: 0.9759 - accuracy: 0.8032\n",
      "\n",
      "Accuracy on test: 0.8032057285308838\n"
     ]
    }
   ],
   "source": [
    "# Слой 256 и 1\n",
    "model = keras.Sequential([\n",
    "    layers.Dense(128, activation=\"relu\"),\n",
    "    layers.Dense(64, activation=\"relu\"),\n",
    "    layers.Dense(46, activation=\"softmax\")\n",
    "])\n",
    "\n",
    "model.compile(optimizer=\"rmsprop\",\n",
    "              loss=\"sparse_categorical_crossentropy\",\n",
    "              metrics=[\"accuracy\"]\n",
    "             )\n",
    "model.fit(x_train,\n",
    "          y_train,\n",
    "          epochs=9,\n",
    "          batch_size=512\n",
    "         )\n",
    "results = model.evaluate(x_test, y_test)\n",
    "\n",
    "print(f'\\nAccuracy on test: {results[1]}')"
   ]
  }
 ],
 "metadata": {
  "kernelspec": {
   "display_name": "Python 3 (ipykernel)",
   "language": "python",
   "name": "python3"
  },
  "language_info": {
   "codemirror_mode": {
    "name": "ipython",
    "version": 3
   },
   "file_extension": ".py",
   "mimetype": "text/x-python",
   "name": "python",
   "nbconvert_exporter": "python",
   "pygments_lexer": "ipython3",
   "version": "3.10.9"
  }
 },
 "nbformat": 4,
 "nbformat_minor": 5
}
